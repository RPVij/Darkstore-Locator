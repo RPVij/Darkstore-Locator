{
 "cells": [
  {
   "cell_type": "markdown",
   "id": "17f132af",
   "metadata": {},
   "source": [
    "# Darkstores Locator"
   ]
  },
  {
   "cell_type": "markdown",
   "id": "bc8ff7b1",
   "metadata": {},
   "source": [
    "### Problem Description"
   ]
  },
  {
   "cell_type": "markdown",
   "id": "69814997",
   "metadata": {},
   "source": [
    "Darkstores : A darkstore is basically a brick-and-mortar location that has been shut down and turned into a center for fulfillment operations. These distribution outlets are not open to visitors, allowing more space for store inventory and to quickly and accurately fulfill orders."
   ]
  },
  {
   "cell_type": "markdown",
   "id": "3c403af8",
   "metadata": {},
   "source": [
    "In this project I have tried to find optimal locations for darkstores for instant delivery service application like Zepto, Swiggy Instamart, Blinkit etc. by using location of resturaunts that are vendors on food delivery applications of these companies."
   ]
  },
  {
   "cell_type": "markdown",
   "id": "0d018e80",
   "metadata": {},
   "source": [
    "I have assumed that customers for these companies would be the one who are using these application for their food delivery services, thus they are living nearby the resturaunts."
   ]
  },
  {
   "cell_type": "markdown",
   "id": "55185110",
   "metadata": {},
   "source": [
    "Ideally customer location should be used to find dark store locations but the dataset for that was not available."
   ]
  },
  {
   "cell_type": "markdown",
   "id": "e9b81cec",
   "metadata": {},
   "source": [
    "### Code"
   ]
  },
  {
   "cell_type": "code",
   "execution_count": 1,
   "id": "7d529836",
   "metadata": {},
   "outputs": [],
   "source": [
    "# Importing all required libraries.\n",
    "import pandas as pd\n",
    "import numpy as np\n",
    "import matplotlib.pyplot as plt\n",
    "from sklearn.cluster import KMeans"
   ]
  },
  {
   "cell_type": "code",
   "execution_count": 2,
   "id": "0ce3c3be",
   "metadata": {},
   "outputs": [],
   "source": [
    "# Reading dataset in csv form using pandas.\n",
    "dataset = pd.read_csv('Dataset/OnlineDeliveryData.csv',encoding=\"ISO-8859-1\")"
   ]
  },
  {
   "cell_type": "code",
   "execution_count": 3,
   "id": "87e4a1e6",
   "metadata": {},
   "outputs": [],
   "source": [
    "# Dropping all the columns that are not required (Cleaning data).\n",
    "customerLocation = dataset.values[:,7:9]"
   ]
  },
  {
   "cell_type": "code",
   "execution_count": 4,
   "id": "71521e13",
   "metadata": {},
   "outputs": [
    {
     "data": {
      "image/png": "[encoded data removed]",
      "text/plain": [
       "<Figure size 432x288 with 1 Axes>"
      ]
     },
     "metadata": {
      "needs_background": "light"
     },
     "output_type": "display_data"
    }
   ],
   "source": [
    "# Visualizing dataset\n",
    "plt.figure(0)\n",
    "plt.style.use(\"seaborn\")\n",
    "plt.scatter(customerLocation[:,0],customerLocation[:,1])\n",
    "plt.xlabel(\"Longitude\")\n",
    "plt.ylabel(\"Latitude\")\n",
    "plt.show()"
   ]
  },
  {
   "cell_type": "markdown",
   "id": "3302d521",
   "metadata": {},
   "source": [
    "#### Hardcoding K-Means Logic"
   ]
  },
  {
   "cell_type": "code",
   "execution_count": 5,
   "id": "859b8ac6",
   "metadata": {},
   "outputs": [],
   "source": [
    "numOfStores = 2 # Number of darkstores need to be located.\n",
    "storeLocation = {} # Location of the darkstores will be stored here.\n",
    "# Giving random location to the darkstores.\n",
    "for i in range(numOfStores):\n",
    "    center = 20*np.random.random(customerLocation.shape[1],)\n",
    "    points = []\n",
    "    cluster = {\n",
    "        'center' : center,\n",
    "        'points' : points,\n",
    "    }\n",
    "    storeLocation[i] = cluster"
   ]
  },
  {
   "cell_type": "code",
   "execution_count": 6,
   "id": "6765f691",
   "metadata": {},
   "outputs": [],
   "source": [
    "# Function for calculatin distance\n",
    "def distance(v1,v2):\n",
    "    return np.sqrt(np.sum((v1-v2)**2))"
   ]
  },
  {
   "cell_type": "code",
   "execution_count": 7,
   "id": "df407ad1",
   "metadata": {},
   "outputs": [],
   "source": [
    "# E-Step \n",
    "def assignPointToClusters(clusters,X,k):\n",
    "    for i in range(X.shape[0]):\n",
    "        dist = []\n",
    "        curr_x = X[i]\n",
    "        for j in range(k):\n",
    "            d = distance(curr_x,clusters[j]['center'])\n",
    "            dist.append(d)\n",
    "        current_cluster = np.argmin(dist)\n",
    "        clusters[current_cluster]['points'].append(curr_x)\n",
    "\n",
    "# M-Step\n",
    "def updateClusters(clusters):\n",
    "    for i in range(len(clusters.keys())):\n",
    "        pts = np.array(clusters[i]['points'])\n",
    "        if pts.shape[0]>0:\n",
    "            new_u = pts.mean(axis=0)\n",
    "            clusters[i]['center'] = new_u\n",
    "            clusters[i]['points'] = []"
   ]
  },
  {
   "cell_type": "code",
   "execution_count": 8,
   "id": "8103786b",
   "metadata": {},
   "outputs": [],
   "source": [
    "# Repeating E-Step and M-Step till we find the optimum darkstores location.\n",
    "for i in range(25):\n",
    "    assignPointToClusters(storeLocation,customerLocation,numOfStores)\n",
    "    updateClusters(storeLocation)"
   ]
  },
  {
   "cell_type": "code",
   "execution_count": 9,
   "id": "df40b134",
   "metadata": {},
   "outputs": [
    {
     "name": "stdout",
     "output_type": "stream",
     "text": [
      "{0: {'center': array([72.95656747097463, 25.497349760028285], dtype=object), 'points': []}, 1: {'center': array([-78.18189710197494, 31.608465366451597], dtype=object), 'points': []}}\n"
     ]
    },
    {
     "data": {
      "image/png": "[encoded data removed]",
      "text/plain": [
       "<Figure size 576x396 with 1 Axes>"
      ]
     },
     "metadata": {},
     "output_type": "display_data"
    }
   ],
   "source": [
    "# Visualizing the stores location we get after K-Means.\n",
    "print(storeLocation)\n",
    "plt.scatter(customerLocation[:,0],customerLocation[:,1])\n",
    "for i in range(len(storeLocation.keys())):\n",
    "    plt.scatter(storeLocation[i]['center'][0],storeLocation[i]['center'][1],color='red',marker='*')\n",
    "plt.show()"
   ]
  },
  {
   "cell_type": "markdown",
   "id": "8a727f02",
   "metadata": {},
   "source": [
    "#### Using SK-Learn Library"
   ]
  },
  {
   "cell_type": "code",
   "execution_count": 10,
   "id": "1025215b",
   "metadata": {},
   "outputs": [
    {
     "data": {
      "text/plain": [
       "KMeans(n_clusters=2)"
      ]
     },
     "execution_count": 10,
     "metadata": {},
     "output_type": "execute_result"
    }
   ],
   "source": [
    "# Applying K-Means using SK-Learn library.\n",
    "storeLocator = KMeans(n_clusters=2)\n",
    "storeLocator.fit(customerLocation)"
   ]
  },
  {
   "cell_type": "code",
   "execution_count": 11,
   "id": "f85632ac",
   "metadata": {},
   "outputs": [],
   "source": [
    "# Storelocation we get after applying K-Means.\n",
    "storeLocation = storeLocator.cluster_centers_"
   ]
  },
  {
   "cell_type": "code",
   "execution_count": 12,
   "id": "983ff8b6",
   "metadata": {},
   "outputs": [
    {
     "data": {
      "image/png": "[encoded data removed]",
      "text/plain": [
       "<Figure size 576x396 with 1 Axes>"
      ]
     },
     "metadata": {},
     "output_type": "display_data"
    }
   ],
   "source": [
    "# Visualizing the stores location we get after K-Means.\n",
    "plt.figure(0)\n",
    "plt.style.use(\"seaborn\")\n",
    "plt.scatter(customerLocation[:,0],customerLocation[:,1])\n",
    "plt.scatter(storeLocation[:,0],storeLocation[:,1],c='red')\n",
    "plt.xlabel(\"Longitude\")\n",
    "plt.ylabel(\"Latitude\")\n",
    "plt.show()"
   ]
  }
 ],
 "metadata": {
  "kernelspec": {
   "display_name": "Python 3 (ipykernel)",
   "language": "python",
   "name": "python3"
  },
  "language_info": {
   "codemirror_mode": {
    "name": "ipython",
    "version": 3
   },
   "file_extension": ".py",
   "mimetype": "text/x-python",
   "name": "python",
   "nbconvert_exporter": "python",
   "pygments_lexer": "ipython3",
   "version": "3.10.2"
  }
 },
 "nbformat": 4,
 "nbformat_minor": 5
}
